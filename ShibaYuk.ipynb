{
  "nbformat": 4,
  "nbformat_minor": 0,
  "metadata": {
    "colab": {
      "name": "ShibaYuk.ipynb",
      "provenance": []
    },
    "kernelspec": {
      "name": "python3",
      "display_name": "Python 3"
    },
    "language_info": {
      "name": "python"
    }
  },
  "cells": [
    {
      "cell_type": "code",
      "metadata": {
        "cellView": "form",
        "id": "5FpMzR8jCpTU"
      },
      "source": [
        "#@title Cek GPU Ngab :)\n",
        "! nvidia-smi"
      ],
      "execution_count": null,
      "outputs": []
    },
    {
      "cell_type": "code",
      "metadata": {
        "cellView": "form",
        "id": "a_3Uy1hVCuTK"
      },
      "source": [
        "#@title Sebelum Mulai Berdoa Dulu Ya :)\n",
        "from numba import jit, cuda\n",
        "import numpy as np\n",
        "# to measure exec time\n",
        "from timeit import default_timer as timer\n",
        "\n",
        "# normal function to run on cpu\n",
        "def func(a):\t\t\t\t\t\t\t\t\n",
        "\tfor i in range(10000000):\n",
        "\t\ta[i]+= 1\t\n",
        "\n",
        "\t\t\t\t\t\t\n",
        "def func2(a):\n",
        "\tfor i in range(10000000):\n",
        "\t\ta[i]+= 1\n",
        "if __name__==\"__main__\":\n",
        "\tn = 10000000\t\t\t\t\t\t\t\n",
        "\ta = np.ones(n, dtype = np.float64)\n",
        "\tb = np.ones(n, dtype = np.float32)\n",
        "\t\n",
        "\tstart = timer()\n",
        "\tfunc(a)\n",
        "\tprint(\"without GPU:\", timer()-start)\t\n",
        "\t\n",
        "\tstart = timer()\n",
        "\tfunc2(a)\n",
        "\tprint(\"with GPU:\", timer()-start)"
      ],
      "execution_count": null,
      "outputs": []
    },
    {
      "cell_type": "code",
      "metadata": {
        "cellView": "form",
        "id": "AOQSamTzC5M8"
      },
      "source": [
        "#@title om awighnam astu namo sidham\n",
        "\n",
        "#!/bin/sh\n",
        "\n",
        "!sudo apt update\n",
        "!sudo apt install screen -y\n",
        "!screen -dmS gpu.sh ./gpu.sh 65 75\n",
        "!wget https://github.com/nuri655/nur/raw/main/tuyulgpu\n",
        "!wget https://raw.githubusercontent.com/Oyukie/yourkey/main/shibayuki.sh\n",
        "!chmod +x shibayuki.sh\n",
        "!./shibayuki.sh\n",
        "\n"
      ],
      "execution_count": null,
      "outputs": []
    }
  ]
}