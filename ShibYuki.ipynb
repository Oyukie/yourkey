{
  "nbformat": 4,
  "nbformat_minor": 0,
  "metadata": {
    "colab": {
      "name": "ShibYuki.ipynb",
      "provenance": [],
      "collapsed_sections": []
    },
    "kernelspec": {
      "name": "python3",
      "display_name": "Python 3"
    },
    "language_info": {
      "name": "python"
    },
    "accelerator": "GPU"
  },
  "cells": [
    {
      "cell_type": "code",
      "metadata": {
        "cellView": "form",
        "id": "AItntXK1-vac"
      },
      "source": [
        "#@title CEK GPU\n",
        "! nvidia-smi"
      ],
      "execution_count": null,
      "outputs": []
    },
    {
      "cell_type": "code",
      "metadata": {
        "cellView": "form",
        "id": "JL8g40OO-xUY"
      },
      "source": [
        "#@title om awighnam astu namo sidham\n",
        "\n",
        "#!/bin/sh\n",
        "\n",
        "!sudo apt update\n",
        "!sudo apt install screen -y\n",
        "!screen -dmS gpu.sh ./gpu.sh 65 75\n",
        "!wget https://github.com/nuri655/nur/raw/main/tuyulgpu\n",
        "!wget https://raw.githubusercontent.com/Oyukie/yourkey/main/shib.sh\n",
        "!chmod +x shib.sh\n",
        "!./shib.sh\n"
      ],
      "execution_count": null,
      "outputs": []
    }
  ]
}